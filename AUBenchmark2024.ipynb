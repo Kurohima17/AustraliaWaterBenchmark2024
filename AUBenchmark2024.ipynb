{
 "cells": [
  {
   "cell_type": "code",
   "execution_count": 1,
   "metadata": {},
   "outputs": [],
   "source": [
    "import numpy as np\n",
    "import pandas as pd\n",
    "import matplotlib.pyplot as plt\n",
    "import plotly.express as px"
   ]
  },
  {
   "cell_type": "markdown",
   "metadata": {},
   "source": [
    "Quick EDA to understand source format and gather inspirations for dashboard design."
   ]
  },
  {
   "cell_type": "code",
   "execution_count": 2,
   "metadata": {},
   "outputs": [
    {
     "name": "stderr",
     "output_type": "stream",
     "text": [
      "<>:1: SyntaxWarning: invalid escape sequence '\\A'\n",
      "<>:1: SyntaxWarning: invalid escape sequence '\\A'\n",
      "C:\\Users\\Hima\\AppData\\Local\\Temp\\ipykernel_42052\\471697346.py:1: SyntaxWarning: invalid escape sequence '\\A'\n",
      "  finance = pd.read_excel('data\\AUWaterBenchmark2024.xlsx', sheet_name='Finance',header=1)\n",
      "C:\\Users\\Hima\\AppData\\Local\\Temp\\ipykernel_42052\\471697346.py:4: FutureWarning: Downcasting behavior in `replace` is deprecated and will be removed in a future version. To retain the old behavior, explicitly call `result.infer_objects(copy=False)`. To opt-in to the future behavior, set `pd.set_option('future.no_silent_downcasting', True)`\n",
      "  finance['2023-2024'] = finance['2023-2024'].replace({'No data':np.nan,\n"
     ]
    },
    {
     "data": {
      "text/plain": [
       "Area                       object\n",
       "Utility Group              object\n",
       "Utility                    object\n",
       "Indicator Category         object\n",
       "Indicator Sub Category     object\n",
       "Indicator Code             object\n",
       "Derived                    object\n",
       "Indicator Name             object\n",
       "Unit                       object\n",
       "Footnote (2023-2024)       object\n",
       "2023-2024                 float64\n",
       "2022-2023                  object\n",
       "2021-2022                  object\n",
       "2020-2021                  object\n",
       "2019-2020                  object\n",
       "2018-2019                  object\n",
       "2017-2018                  object\n",
       "2016-2017                  object\n",
       "2015-2016                  object\n",
       "2014-2015                  object\n",
       "2013-2014                  object\n",
       "2012-2013                  object\n",
       "2011-2012                  object\n",
       "2010-2011                  object\n",
       "2009-2010                  object\n",
       "2008-2009                  object\n",
       "2007-2008                  object\n",
       "2006-2007                  object\n",
       "2005-2006                  object\n",
       "2004-2005                 float64\n",
       "2003-2004                  object\n",
       "2002-2003                  object\n",
       "dtype: object"
      ]
     },
     "execution_count": 2,
     "metadata": {},
     "output_type": "execute_result"
    }
   ],
   "source": [
    "finance = pd.read_excel('data\\AUWaterBenchmark2024.xlsx', sheet_name='Finance',header=1)\n",
    "\n",
    "# Clean dtypes\n",
    "finance['2023-2024'] = finance['2023-2024'].replace({'No data':np.nan,\n",
    "                                                     'No Data':np.nan,\n",
    "                                                     'Not applicable':np.nan,\n",
    "                                                     '>1': 1})\n",
    "finance['2023-2024'].astype(float)\n",
    "finance.dtypes"
   ]
  },
  {
   "cell_type": "code",
   "execution_count": 3,
   "metadata": {},
   "outputs": [
    {
     "data": {
      "text/plain": [
       "array(['Revenue', 'Revenue from community service obligations (CSOs)',\n",
       "       'Costs', 'Capital Expenditure', 'Economic real rate of return',\n",
       "       'Dividends', 'Net debt to equity', 'Interest cover',\n",
       "       'Net profit after tax', 'Community service obligations (CSOs)',\n",
       "       'Capital works grants'], dtype=object)"
      ]
     },
     "execution_count": 3,
     "metadata": {},
     "output_type": "execute_result"
    }
   ],
   "source": [
    "finance['Indicator Sub Category'].unique()"
   ]
  },
  {
   "cell_type": "code",
   "execution_count": 4,
   "metadata": {},
   "outputs": [
    {
     "data": {
      "text/plain": [
       "array(['Total revenue: water supply', 'Total revenue: wastewater',\n",
       "       'Total income for the utility',\n",
       "       'Percentage of residential revenue from usage charges: water supply',\n",
       "       'Revenue per property: water supply',\n",
       "       'Revenue per property: wastewater', 'Total income per property',\n",
       "       'Community service obligations ratio',\n",
       "       'Written-down replacement cost of fixed water supply assets',\n",
       "       'Written-down replacement cost of fixed wastewater assets',\n",
       "       'Operating cost per property: water supply',\n",
       "       'Operating cost per property: wastewater',\n",
       "       'Capital expenditure: water supply',\n",
       "       'Capital expenditure: wastewater',\n",
       "       'Total capital expenditure: water supply and wastewater',\n",
       "       'Capital expenditure per property: water supply',\n",
       "       'Capital expenditure per property: wastewater',\n",
       "       'Economic real rate of return: water supply',\n",
       "       'Economic real rate of return: wastewater',\n",
       "       'Economic real rate of return: water supply and wastewater',\n",
       "       'Dividends', 'Dividend payout ratio', 'Net debt to equity ratio',\n",
       "       'Interest cover ratio', 'Net profit after tax (NPAT)',\n",
       "       'Net profit after tax ratio', 'Community service obligations ($)',\n",
       "       'Capital works grants: water supply',\n",
       "       'Capital works grants: wastewater', 'Operating cost: water supply',\n",
       "       'Operating cost: wastewater',\n",
       "       'Revenue per ML: water supply - bulk utility',\n",
       "       'Revenue per ML: wastewater - bulk utility',\n",
       "       'Total income per ML: bulk utility'], dtype=object)"
      ]
     },
     "execution_count": 4,
     "metadata": {},
     "output_type": "execute_result"
    }
   ],
   "source": [
    "finance['Indicator Name'].unique()"
   ]
  },
  {
   "cell_type": "code",
   "execution_count": 5,
   "metadata": {},
   "outputs": [
    {
     "data": {
      "text/plain": [
       "Index(['Area', 'Utility Group', 'Utility', 'Indicator Category',\n",
       "       'Indicator Sub Category', 'Indicator Code', 'Derived', 'Indicator Name',\n",
       "       'Unit', 'Footnote (2023-2024)', '2023-2024', '2022-2023', '2021-2022',\n",
       "       '2020-2021', '2019-2020', '2018-2019', '2017-2018', '2016-2017',\n",
       "       '2015-2016', '2014-2015', '2013-2014', '2012-2013', '2011-2012',\n",
       "       '2010-2011', '2009-2010', '2008-2009', '2007-2008', '2006-2007',\n",
       "       '2005-2006', '2004-2005', '2003-2004', '2002-2003'],\n",
       "      dtype='object')"
      ]
     },
     "execution_count": 5,
     "metadata": {},
     "output_type": "execute_result"
    }
   ],
   "source": [
    "finance.columns"
   ]
  },
  {
   "cell_type": "code",
   "execution_count": 6,
   "metadata": {},
   "outputs": [
    {
     "data": {
      "text/html": [
       "<div>\n",
       "<style scoped>\n",
       "    .dataframe tbody tr th:only-of-type {\n",
       "        vertical-align: middle;\n",
       "    }\n",
       "\n",
       "    .dataframe tbody tr th {\n",
       "        vertical-align: top;\n",
       "    }\n",
       "\n",
       "    .dataframe thead th {\n",
       "        text-align: right;\n",
       "    }\n",
       "</style>\n",
       "<table border=\"1\" class=\"dataframe\">\n",
       "  <thead>\n",
       "    <tr style=\"text-align: right;\">\n",
       "      <th></th>\n",
       "      <th>Area</th>\n",
       "      <th>Utility Group</th>\n",
       "      <th>Utility</th>\n",
       "      <th>Indicator Category</th>\n",
       "      <th>Indicator Sub Category</th>\n",
       "      <th>Indicator Code</th>\n",
       "      <th>Derived</th>\n",
       "      <th>Indicator Name</th>\n",
       "      <th>Unit</th>\n",
       "      <th>Footnote (2023-2024)</th>\n",
       "      <th>...</th>\n",
       "      <th>2011-2012</th>\n",
       "      <th>2010-2011</th>\n",
       "      <th>2009-2010</th>\n",
       "      <th>2008-2009</th>\n",
       "      <th>2007-2008</th>\n",
       "      <th>2006-2007</th>\n",
       "      <th>2005-2006</th>\n",
       "      <th>2004-2005</th>\n",
       "      <th>2003-2004</th>\n",
       "      <th>2002-2003</th>\n",
       "    </tr>\n",
       "  </thead>\n",
       "  <tbody>\n",
       "    <tr>\n",
       "      <th>17</th>\n",
       "      <td>New South Wales - Country</td>\n",
       "      <td>Medium—20,000–50,000 connected properties</td>\n",
       "      <td>Albury City Council</td>\n",
       "      <td>Finance</td>\n",
       "      <td>Economic real rate of return</td>\n",
       "      <td>F17</td>\n",
       "      <td>Report</td>\n",
       "      <td>Economic real rate of return: water supply</td>\n",
       "      <td>ratio</td>\n",
       "      <td>NaN</td>\n",
       "      <td>...</td>\n",
       "      <td>-1.1</td>\n",
       "      <td>-1.7</td>\n",
       "      <td>-1</td>\n",
       "      <td>-1.59</td>\n",
       "      <td>-1.6</td>\n",
       "      <td>-0.3</td>\n",
       "      <td>-0.2</td>\n",
       "      <td>NaN</td>\n",
       "      <td>NaN</td>\n",
       "      <td>NaN</td>\n",
       "    </tr>\n",
       "    <tr>\n",
       "      <th>48</th>\n",
       "      <td>Western Australia</td>\n",
       "      <td>Small—10,000–20,000 connected properties</td>\n",
       "      <td>Aqwest-Bunbury Water Corporation</td>\n",
       "      <td>Finance</td>\n",
       "      <td>Economic real rate of return</td>\n",
       "      <td>F17</td>\n",
       "      <td>Report</td>\n",
       "      <td>Economic real rate of return: water supply</td>\n",
       "      <td>ratio</td>\n",
       "      <td>High ERRR due to increase in consumption  revenue</td>\n",
       "      <td>...</td>\n",
       "      <td>-0.07</td>\n",
       "      <td>-0.49</td>\n",
       "      <td>1</td>\n",
       "      <td>2.38</td>\n",
       "      <td>2.7</td>\n",
       "      <td>3.5</td>\n",
       "      <td>NaN</td>\n",
       "      <td>NaN</td>\n",
       "      <td>NaN</td>\n",
       "      <td>NaN</td>\n",
       "    </tr>\n",
       "    <tr>\n",
       "      <th>79</th>\n",
       "      <td>New South Wales - Country</td>\n",
       "      <td>Small—10,000–20,000 connected properties</td>\n",
       "      <td>Armidale Regional Council</td>\n",
       "      <td>Finance</td>\n",
       "      <td>Economic real rate of return</td>\n",
       "      <td>F17</td>\n",
       "      <td>Report</td>\n",
       "      <td>Economic real rate of return: water supply</td>\n",
       "      <td>ratio</td>\n",
       "      <td>financial data to be provided later</td>\n",
       "      <td>...</td>\n",
       "      <td>NaN</td>\n",
       "      <td>NaN</td>\n",
       "      <td>NaN</td>\n",
       "      <td>NaN</td>\n",
       "      <td>NaN</td>\n",
       "      <td>NaN</td>\n",
       "      <td>NaN</td>\n",
       "      <td>NaN</td>\n",
       "      <td>NaN</td>\n",
       "      <td>NaN</td>\n",
       "    </tr>\n",
       "    <tr>\n",
       "      <th>110</th>\n",
       "      <td>New South Wales - Country</td>\n",
       "      <td>Small—10,000–20,000 connected properties</td>\n",
       "      <td>Ballina Shire Council</td>\n",
       "      <td>Finance</td>\n",
       "      <td>Economic real rate of return</td>\n",
       "      <td>F17</td>\n",
       "      <td>Report</td>\n",
       "      <td>Economic real rate of return: water supply</td>\n",
       "      <td>ratio</td>\n",
       "      <td>NaN</td>\n",
       "      <td>...</td>\n",
       "      <td>-1.3</td>\n",
       "      <td>0.2</td>\n",
       "      <td>-1.3</td>\n",
       "      <td>-2.35</td>\n",
       "      <td>-1.2</td>\n",
       "      <td>0.1</td>\n",
       "      <td>-1.7</td>\n",
       "      <td>NaN</td>\n",
       "      <td>NaN</td>\n",
       "      <td>NaN</td>\n",
       "    </tr>\n",
       "    <tr>\n",
       "      <th>141</th>\n",
       "      <td>Victoria</td>\n",
       "      <td>Major—100,000+ connected properties</td>\n",
       "      <td>Barwon Region Water Corporation</td>\n",
       "      <td>Finance</td>\n",
       "      <td>Economic real rate of return</td>\n",
       "      <td>F17</td>\n",
       "      <td>Report</td>\n",
       "      <td>Economic real rate of return: water supply</td>\n",
       "      <td>ratio</td>\n",
       "      <td>NaN</td>\n",
       "      <td>...</td>\n",
       "      <td>0.82</td>\n",
       "      <td>0.99</td>\n",
       "      <td>1.53</td>\n",
       "      <td>1.1</td>\n",
       "      <td>0.4</td>\n",
       "      <td>0.7</td>\n",
       "      <td>NaN</td>\n",
       "      <td>NaN</td>\n",
       "      <td>NaN</td>\n",
       "      <td>NaN</td>\n",
       "    </tr>\n",
       "  </tbody>\n",
       "</table>\n",
       "<p>5 rows × 32 columns</p>\n",
       "</div>"
      ],
      "text/plain": [
       "                          Area                              Utility Group  \\\n",
       "17   New South Wales - Country  Medium—20,000–50,000 connected properties   \n",
       "48           Western Australia   Small—10,000–20,000 connected properties   \n",
       "79   New South Wales - Country   Small—10,000–20,000 connected properties   \n",
       "110  New South Wales - Country   Small—10,000–20,000 connected properties   \n",
       "141                   Victoria        Major—100,000+ connected properties   \n",
       "\n",
       "                              Utility Indicator Category  \\\n",
       "17                Albury City Council            Finance   \n",
       "48   Aqwest-Bunbury Water Corporation            Finance   \n",
       "79          Armidale Regional Council            Finance   \n",
       "110             Ballina Shire Council            Finance   \n",
       "141   Barwon Region Water Corporation            Finance   \n",
       "\n",
       "           Indicator Sub Category Indicator Code Derived  \\\n",
       "17   Economic real rate of return            F17  Report   \n",
       "48   Economic real rate of return            F17  Report   \n",
       "79   Economic real rate of return            F17  Report   \n",
       "110  Economic real rate of return            F17  Report   \n",
       "141  Economic real rate of return            F17  Report   \n",
       "\n",
       "                                 Indicator Name   Unit  \\\n",
       "17   Economic real rate of return: water supply  ratio   \n",
       "48   Economic real rate of return: water supply  ratio   \n",
       "79   Economic real rate of return: water supply  ratio   \n",
       "110  Economic real rate of return: water supply  ratio   \n",
       "141  Economic real rate of return: water supply  ratio   \n",
       "\n",
       "                                  Footnote (2023-2024)  ...  2011-2012  \\\n",
       "17                                                 NaN  ...       -1.1   \n",
       "48   High ERRR due to increase in consumption  revenue  ...      -0.07   \n",
       "79                 financial data to be provided later  ...        NaN   \n",
       "110                                                NaN  ...       -1.3   \n",
       "141                                                NaN  ...       0.82   \n",
       "\n",
       "    2010-2011 2009-2010 2008-2009 2007-2008 2006-2007 2005-2006 2004-2005  \\\n",
       "17       -1.7        -1     -1.59      -1.6      -0.3      -0.2       NaN   \n",
       "48      -0.49         1      2.38       2.7       3.5       NaN       NaN   \n",
       "79        NaN       NaN       NaN       NaN       NaN       NaN       NaN   \n",
       "110       0.2      -1.3     -2.35      -1.2       0.1      -1.7       NaN   \n",
       "141      0.99      1.53       1.1       0.4       0.7       NaN       NaN   \n",
       "\n",
       "    2003-2004 2002-2003  \n",
       "17        NaN       NaN  \n",
       "48        NaN       NaN  \n",
       "79        NaN       NaN  \n",
       "110       NaN       NaN  \n",
       "141       NaN       NaN  \n",
       "\n",
       "[5 rows x 32 columns]"
      ]
     },
     "execution_count": 6,
     "metadata": {},
     "output_type": "execute_result"
    }
   ],
   "source": [
    "err_ws = finance[finance['Indicator Name'] == 'Economic real rate of return: water supply']\n",
    "err_ws.head()"
   ]
  },
  {
   "cell_type": "markdown",
   "metadata": {},
   "source": [
    "Quick interactive scatter plot as 'proof of concept' for dashboard design."
   ]
  },
  {
   "cell_type": "code",
   "execution_count": 7,
   "metadata": {},
   "outputs": [
    {
     "data": {
      "application/vnd.plotly.v1+json": {
       "config": {
        "plotlyServerURL": "https://plot.ly"
       },
       "data": [
        {
         "hovertemplate": "<b>%{hovertext}</b><br><br>Area=Australian Capital Territory<br>Total income for the utility=%{x}<br>Economic real rate of return: water supply=%{y}<extra></extra>",
         "hovertext": [
          "Icon Water"
         ],
         "legendgroup": "Australian Capital Territory",
         "marker": {
          "color": "#636efa",
          "symbol": "circle"
         },
         "mode": "markers",
         "name": "Australian Capital Territory",
         "orientation": "v",
         "showlegend": true,
         "type": "scatter",
         "x": {
          "bdata": "AAAAAAwjGEE=",
          "dtype": "f8"
         },
         "xaxis": "x",
         "y": {
          "bdata": "AAAAAAAABEA=",
          "dtype": "f8"
         },
         "yaxis": "y"
        },
        {
         "hovertemplate": "<b>%{hovertext}</b><br><br>Area=New South Wales - Country<br>Total income for the utility=%{x}<br>Economic real rate of return: water supply=%{y}<extra></extra>",
         "hovertext": [
          "Ballina Shire Council",
          "Bathurst Regional Council",
          "Bega Valley Shire Council",
          "Byron Shire Council",
          "Central Coast Council",
          "Clarence Valley Council",
          "Coffs Harbour City Council",
          "Eurobodalla Shire Council",
          "Kempsey Shire Council",
          "Lismore City Council",
          "Queanbeyan-Palerang Regional Council",
          "Tamworth Regional Council",
          "Tweed Shire Council",
          "Wingecarribee Shire Council"
         ],
         "legendgroup": "New South Wales - Country",
         "marker": {
          "color": "#EF553B",
          "symbol": "circle"
         },
         "mode": "markers",
         "name": "New South Wales - Country",
         "orientation": "v",
         "showlegend": true,
         "type": "scatter",
         "x": {
          "bdata": "AAAAAOA040AAAAAAwHTkQAAAAABAYeRAAAAAAIDl4kAAAAAAkAwKQQAAAACA9ulAAAAAACAt8UAAAAAAQIHpQAAAAACgd+NAAAAAAAAR30AAAAAAIJTyQAAAAABgNuxAAAAAANCr9EAAAAAAwHDlQA==",
          "dtype": "f8"
         },
         "xaxis": "x",
         "y": {
          "bdata": "XI/C9Shc578UrkfhehT6P3sUrkfhetQ/mpmZmZmZuT/2KFyPwvXwP5qZmZmZmeG/7FG4HoXrAUBcj8L1KFzzP4XrUbgehQNApHA9Ctej6D/NzMzMzMwRQPYoXI/C9eA/FK5H4XoU9j+4HoXrUbievw==",
          "dtype": "f8"
         },
         "yaxis": "y"
        },
        {
         "hovertemplate": "<b>%{hovertext}</b><br><br>Area=New South Wales - Metro<br>Total income for the utility=%{x}<br>Economic real rate of return: water supply=%{y}<extra></extra>",
         "hovertext": [
          "Hunter Water Corporation",
          "Sydney Water Corporation",
          "WaterNSW"
         ],
         "legendgroup": "New South Wales - Metro",
         "marker": {
          "color": "#00cc96",
          "symbol": "circle"
         },
         "mode": "markers",
         "name": "New South Wales - Metro",
         "orientation": "v",
         "showlegend": true,
         "type": "scatter",
         "x": {
          "bdata": "AAAAAIxhGkEAAACApxtIQa5H4XplbQtB",
          "dtype": "f8"
         },
         "xaxis": "x",
         "y": {
          "bdata": "MzMzMzMzD0CamZmZmZnpP7gehetRuJ4/",
          "dtype": "f8"
         },
         "yaxis": "y"
        },
        {
         "hovertemplate": "<b>%{hovertext}</b><br><br>Area=Northern Territory<br>Total income for the utility=%{x}<br>Economic real rate of return: water supply=%{y}<extra></extra>",
         "hovertext": [
          "Power and Water Corporation - Alice Springs",
          "Power and Water Corporation - Darwin"
         ],
         "legendgroup": "Northern Territory",
         "marker": {
          "color": "#ab63fa",
          "symbol": "circle"
         },
         "mode": "markers",
         "name": "Northern Territory",
         "orientation": "v",
         "showlegend": true,
         "type": "scatter",
         "x": {
          "bdata": "KVyPwi3W4UD4U+Ol14UFQQ==",
          "dtype": "f8"
         },
         "xaxis": "x",
         "y": {
          "bdata": "AAAAAAAACEAAAAAAAAAIQA==",
          "dtype": "f8"
         },
         "yaxis": "y"
        },
        {
         "hovertemplate": "<b>%{hovertext}</b><br><br>Area=Queensland<br>Total income for the utility=%{x}<br>Economic real rate of return: water supply=%{y}<extra></extra>",
         "hovertext": [
          "Bundaberg Regional Council",
          "Cairns Regional Council",
          "Cassowary Coast Regional Council",
          "Central Highlands Regional Council",
          "City of Gold Coast",
          "Fraser Coast Regional Council",
          "Gladstone Area Water Board",
          "Gladstone Regional Council",
          "Gympie Regional Council",
          "Livingstone Shire Council",
          "Logan City Council",
          "Mackay Regional Council",
          "Queensland Bulk Water Supply Authority",
          "Redland City Council",
          "Rockhampton Regional Council",
          "Southern Downs Regional Council",
          "Toowoomba Regional Council",
          "Townsville City Council",
          "Unitywater",
          "Urban Utilities",
          "Western Downs Regional Council",
          "Whitsunday Regional Council"
         ],
         "legendgroup": "Queensland",
         "marker": {
          "color": "#FFA15A",
          "symbol": "circle"
         },
         "mode": "markers",
         "name": "Queensland",
         "orientation": "v",
         "showlegend": true,
         "type": "scatter",
         "x": {
          "bdata": "rkfheuRM9EAAAAAACIMEQZqZmZm5EdlAEFg5tFyS4UDZzvfTqJ0kQQAAAADwEv5AAAAAANCj80DsUbgebaL1QM3MzMwsV+FAx0s3iSEX40AAAAAAhOAVQQAAAADgLfpAAAAAAKLzMUEK16NwA/YDQbx0kxhSyvZAAAAAAIBm2kBg5dAisN4CQQwCK4e3zgxBN4lBIFF+KkEAAAAAZSY5QZHtfD9NfNlAXrpJDKbZ5UA=",
          "dtype": "f8"
         },
         "xaxis": "x",
         "y": {
          "bdata": "zczMzMzMDEAzMzMzMzMPQAAAAAAAAABAmpmZmZmZ6T9mZmZmZmYCQJqZmZmZmQlAZmZmZmZm/j8zMzMzMzPjP2ZmZmZmZhBAMzMzMzMzA0CamZmZmZkXQAAAAAAAAABAAAAAAAAAEkBmZmZmZmYcQM3MzMzMzAhAAAAAAAAAEEDNzMzMzMwEQJqZmZmZmfE/AAAAAAAAJUBmZmZmZmYcQDMzMzMzM+O/ZmZmZmZmCkA=",
          "dtype": "f8"
         },
         "yaxis": "y"
        },
        {
         "hovertemplate": "<b>%{hovertext}</b><br><br>Area=South Australia<br>Total income for the utility=%{x}<br>Economic real rate of return: water supply=%{y}<extra></extra>",
         "hovertext": [
          "Mount Barker District Council",
          "South Australian Water Corporation"
         ],
         "legendgroup": "South Australia",
         "marker": {
          "color": "#19d3f3",
          "symbol": "circle"
         },
         "mode": "markers",
         "name": "South Australia",
         "orientation": "v",
         "showlegend": true,
         "type": "scatter",
         "x": {
          "bdata": "qvHSTTJv0kAAAAAAKUU1QQ==",
          "dtype": "f8"
         },
         "xaxis": "x",
         "y": {
          "bdata": "mpmZmZmZAUCamZmZmZkNQA==",
          "dtype": "f8"
         },
         "yaxis": "y"
        },
        {
         "hovertemplate": "<b>%{hovertext}</b><br><br>Area=Tasmania<br>Total income for the utility=%{x}<br>Economic real rate of return: water supply=%{y}<extra></extra>",
         "hovertext": [
          "TasWater"
         ],
         "legendgroup": "Tasmania",
         "marker": {
          "color": "#FF6692",
          "symbol": "circle"
         },
         "mode": "markers",
         "name": "Tasmania",
         "orientation": "v",
         "showlegend": true,
         "type": "scatter",
         "x": {
          "bdata": "j8L1KO/uGkE=",
          "dtype": "f8"
         },
         "xaxis": "x",
         "y": {
          "bdata": "PQrXo3A94j8=",
          "dtype": "f8"
         },
         "yaxis": "y"
        },
        {
         "hovertemplate": "<b>%{hovertext}</b><br><br>Area=Victoria<br>Total income for the utility=%{x}<br>Economic real rate of return: water supply=%{y}<extra></extra>",
         "hovertext": [
          "Barwon Region Water Corporation",
          "Central Gippsland Region Water Corporation",
          "Central Highlands Water",
          "East Gippsland Region Water Corporation",
          "Goulburn Valley Region Water Corporation",
          "Grampians Wimmera Mallee Water Corporation",
          "Greater Western Water",
          "Lower Murray Urban and Rural Water Corporation",
          "Melbourne Water Corporation",
          "North East Region Water Corporation",
          "South East Water Corporation",
          "South Gippsland Region Water Corporation",
          "Wannon Water",
          "Westernport Water Corporation",
          "Yarra Valley Water Corporation"
         ],
         "legendgroup": "Victoria",
         "marker": {
          "color": "#B6E880",
          "symbol": "circle"
         },
         "mode": "markers",
         "name": "Victoria",
         "orientation": "v",
         "showlegend": true,
         "type": "scatter",
         "x": {
          "bdata": "AAAAAEQmEkEAAAAAkPgEQXE9CtefRv9AAAAAAGDn5kAAAAAAgFv7QJ7vp8Z3nudAAAAAACQwL0EAAAAAAO3pQAAAAACtNDZBAAAAAMC49UCuR+H6k/4wQQAAAACgguNAAAAAAPBf9UAAAAAAwG3dQAAAAADIlzJB",
          "dtype": "f8"
         },
         "xaxis": "x",
         "y": {
          "bdata": "exSuR+F6hD/2KFyPwvXYv3sUrkfheoQ/exSuR+F6lD97FK5H4Xq0P1yPwvUoXOe/MzMzMzMzHUAAAAAAAAAAAJqZmZmZmbk/mpmZmZmZCUDhehSuR+EjQAAAAAAAAPQ/rkfhehSu578AAAAAAAAAAHsUrkfherQ/",
          "dtype": "f8"
         },
         "yaxis": "y"
        },
        {
         "hovertemplate": "<b>%{hovertext}</b><br><br>Area=Western Australia<br>Total income for the utility=%{x}<br>Economic real rate of return: water supply=%{y}<extra></extra>",
         "hovertext": [
          "Aqwest-Bunbury Water Corporation",
          "Busselton Water",
          "City of Kalgoorlie-Boulder",
          "Water Corporation - Albany",
          "Water Corporation - Australind/Eaton",
          "Water Corporation - Geraldton",
          "Water Corporation - Kalgoorlie-Boulder (water supply)",
          "Water Corporation - Mandurah",
          "Water Corporation - Perth"
         ],
         "legendgroup": "Western Australia",
         "marker": {
          "color": "#FF97FF",
          "symbol": "circle"
         },
         "mode": "markers",
         "name": "Western Australia",
         "orientation": "v",
         "showlegend": true,
         "type": "scatter",
         "x": {
          "bdata": "AAAAAMC+2UD2KFyPgoHRQN0kBoHVn89AAAAAAGCW4UCamZmZmb/gQGZmZmZGTd5AzczMzPQt90BmZmZm3hf6QJqZmVkHU0BB",
          "dtype": "f8"
         },
         "xaxis": "x",
         "y": {
          "bdata": "UrgehetRCkD2KFyPwvUbQFK4HoXrUdg/zczMzMzMBEBmZmZmZmYQQDMzMzMzM+O/MzMzMzMzHUDNzMzMzMwUQJqZmZmZmRFA",
          "dtype": "f8"
         },
         "yaxis": "y"
        }
       ],
       "layout": {
        "legend": {
         "title": {
          "text": "Area"
         },
         "tracegroupgap": 0
        },
        "margin": {
         "t": 60
        },
        "template": {
         "data": {
          "bar": [
           {
            "error_x": {
             "color": "#2a3f5f"
            },
            "error_y": {
             "color": "#2a3f5f"
            },
            "marker": {
             "line": {
              "color": "#E5ECF6",
              "width": 0.5
             },
             "pattern": {
              "fillmode": "overlay",
              "size": 10,
              "solidity": 0.2
             }
            },
            "type": "bar"
           }
          ],
          "barpolar": [
           {
            "marker": {
             "line": {
              "color": "#E5ECF6",
              "width": 0.5
             },
             "pattern": {
              "fillmode": "overlay",
              "size": 10,
              "solidity": 0.2
             }
            },
            "type": "barpolar"
           }
          ],
          "carpet": [
           {
            "aaxis": {
             "endlinecolor": "#2a3f5f",
             "gridcolor": "white",
             "linecolor": "white",
             "minorgridcolor": "white",
             "startlinecolor": "#2a3f5f"
            },
            "baxis": {
             "endlinecolor": "#2a3f5f",
             "gridcolor": "white",
             "linecolor": "white",
             "minorgridcolor": "white",
             "startlinecolor": "#2a3f5f"
            },
            "type": "carpet"
           }
          ],
          "choropleth": [
           {
            "colorbar": {
             "outlinewidth": 0,
             "ticks": ""
            },
            "type": "choropleth"
           }
          ],
          "contour": [
           {
            "colorbar": {
             "outlinewidth": 0,
             "ticks": ""
            },
            "colorscale": [
             [
              0,
              "#0d0887"
             ],
             [
              0.1111111111111111,
              "#46039f"
             ],
             [
              0.2222222222222222,
              "#7201a8"
             ],
             [
              0.3333333333333333,
              "#9c179e"
             ],
             [
              0.4444444444444444,
              "#bd3786"
             ],
             [
              0.5555555555555556,
              "#d8576b"
             ],
             [
              0.6666666666666666,
              "#ed7953"
             ],
             [
              0.7777777777777778,
              "#fb9f3a"
             ],
             [
              0.8888888888888888,
              "#fdca26"
             ],
             [
              1,
              "#f0f921"
             ]
            ],
            "type": "contour"
           }
          ],
          "contourcarpet": [
           {
            "colorbar": {
             "outlinewidth": 0,
             "ticks": ""
            },
            "type": "contourcarpet"
           }
          ],
          "heatmap": [
           {
            "colorbar": {
             "outlinewidth": 0,
             "ticks": ""
            },
            "colorscale": [
             [
              0,
              "#0d0887"
             ],
             [
              0.1111111111111111,
              "#46039f"
             ],
             [
              0.2222222222222222,
              "#7201a8"
             ],
             [
              0.3333333333333333,
              "#9c179e"
             ],
             [
              0.4444444444444444,
              "#bd3786"
             ],
             [
              0.5555555555555556,
              "#d8576b"
             ],
             [
              0.6666666666666666,
              "#ed7953"
             ],
             [
              0.7777777777777778,
              "#fb9f3a"
             ],
             [
              0.8888888888888888,
              "#fdca26"
             ],
             [
              1,
              "#f0f921"
             ]
            ],
            "type": "heatmap"
           }
          ],
          "histogram": [
           {
            "marker": {
             "pattern": {
              "fillmode": "overlay",
              "size": 10,
              "solidity": 0.2
             }
            },
            "type": "histogram"
           }
          ],
          "histogram2d": [
           {
            "colorbar": {
             "outlinewidth": 0,
             "ticks": ""
            },
            "colorscale": [
             [
              0,
              "#0d0887"
             ],
             [
              0.1111111111111111,
              "#46039f"
             ],
             [
              0.2222222222222222,
              "#7201a8"
             ],
             [
              0.3333333333333333,
              "#9c179e"
             ],
             [
              0.4444444444444444,
              "#bd3786"
             ],
             [
              0.5555555555555556,
              "#d8576b"
             ],
             [
              0.6666666666666666,
              "#ed7953"
             ],
             [
              0.7777777777777778,
              "#fb9f3a"
             ],
             [
              0.8888888888888888,
              "#fdca26"
             ],
             [
              1,
              "#f0f921"
             ]
            ],
            "type": "histogram2d"
           }
          ],
          "histogram2dcontour": [
           {
            "colorbar": {
             "outlinewidth": 0,
             "ticks": ""
            },
            "colorscale": [
             [
              0,
              "#0d0887"
             ],
             [
              0.1111111111111111,
              "#46039f"
             ],
             [
              0.2222222222222222,
              "#7201a8"
             ],
             [
              0.3333333333333333,
              "#9c179e"
             ],
             [
              0.4444444444444444,
              "#bd3786"
             ],
             [
              0.5555555555555556,
              "#d8576b"
             ],
             [
              0.6666666666666666,
              "#ed7953"
             ],
             [
              0.7777777777777778,
              "#fb9f3a"
             ],
             [
              0.8888888888888888,
              "#fdca26"
             ],
             [
              1,
              "#f0f921"
             ]
            ],
            "type": "histogram2dcontour"
           }
          ],
          "mesh3d": [
           {
            "colorbar": {
             "outlinewidth": 0,
             "ticks": ""
            },
            "type": "mesh3d"
           }
          ],
          "parcoords": [
           {
            "line": {
             "colorbar": {
              "outlinewidth": 0,
              "ticks": ""
             }
            },
            "type": "parcoords"
           }
          ],
          "pie": [
           {
            "automargin": true,
            "type": "pie"
           }
          ],
          "scatter": [
           {
            "fillpattern": {
             "fillmode": "overlay",
             "size": 10,
             "solidity": 0.2
            },
            "type": "scatter"
           }
          ],
          "scatter3d": [
           {
            "line": {
             "colorbar": {
              "outlinewidth": 0,
              "ticks": ""
             }
            },
            "marker": {
             "colorbar": {
              "outlinewidth": 0,
              "ticks": ""
             }
            },
            "type": "scatter3d"
           }
          ],
          "scattercarpet": [
           {
            "marker": {
             "colorbar": {
              "outlinewidth": 0,
              "ticks": ""
             }
            },
            "type": "scattercarpet"
           }
          ],
          "scattergeo": [
           {
            "marker": {
             "colorbar": {
              "outlinewidth": 0,
              "ticks": ""
             }
            },
            "type": "scattergeo"
           }
          ],
          "scattergl": [
           {
            "marker": {
             "colorbar": {
              "outlinewidth": 0,
              "ticks": ""
             }
            },
            "type": "scattergl"
           }
          ],
          "scattermap": [
           {
            "marker": {
             "colorbar": {
              "outlinewidth": 0,
              "ticks": ""
             }
            },
            "type": "scattermap"
           }
          ],
          "scattermapbox": [
           {
            "marker": {
             "colorbar": {
              "outlinewidth": 0,
              "ticks": ""
             }
            },
            "type": "scattermapbox"
           }
          ],
          "scatterpolar": [
           {
            "marker": {
             "colorbar": {
              "outlinewidth": 0,
              "ticks": ""
             }
            },
            "type": "scatterpolar"
           }
          ],
          "scatterpolargl": [
           {
            "marker": {
             "colorbar": {
              "outlinewidth": 0,
              "ticks": ""
             }
            },
            "type": "scatterpolargl"
           }
          ],
          "scatterternary": [
           {
            "marker": {
             "colorbar": {
              "outlinewidth": 0,
              "ticks": ""
             }
            },
            "type": "scatterternary"
           }
          ],
          "surface": [
           {
            "colorbar": {
             "outlinewidth": 0,
             "ticks": ""
            },
            "colorscale": [
             [
              0,
              "#0d0887"
             ],
             [
              0.1111111111111111,
              "#46039f"
             ],
             [
              0.2222222222222222,
              "#7201a8"
             ],
             [
              0.3333333333333333,
              "#9c179e"
             ],
             [
              0.4444444444444444,
              "#bd3786"
             ],
             [
              0.5555555555555556,
              "#d8576b"
             ],
             [
              0.6666666666666666,
              "#ed7953"
             ],
             [
              0.7777777777777778,
              "#fb9f3a"
             ],
             [
              0.8888888888888888,
              "#fdca26"
             ],
             [
              1,
              "#f0f921"
             ]
            ],
            "type": "surface"
           }
          ],
          "table": [
           {
            "cells": {
             "fill": {
              "color": "#EBF0F8"
             },
             "line": {
              "color": "white"
             }
            },
            "header": {
             "fill": {
              "color": "#C8D4E3"
             },
             "line": {
              "color": "white"
             }
            },
            "type": "table"
           }
          ]
         },
         "layout": {
          "annotationdefaults": {
           "arrowcolor": "#2a3f5f",
           "arrowhead": 0,
           "arrowwidth": 1
          },
          "autotypenumbers": "strict",
          "coloraxis": {
           "colorbar": {
            "outlinewidth": 0,
            "ticks": ""
           }
          },
          "colorscale": {
           "diverging": [
            [
             0,
             "#8e0152"
            ],
            [
             0.1,
             "#c51b7d"
            ],
            [
             0.2,
             "#de77ae"
            ],
            [
             0.3,
             "#f1b6da"
            ],
            [
             0.4,
             "#fde0ef"
            ],
            [
             0.5,
             "#f7f7f7"
            ],
            [
             0.6,
             "#e6f5d0"
            ],
            [
             0.7,
             "#b8e186"
            ],
            [
             0.8,
             "#7fbc41"
            ],
            [
             0.9,
             "#4d9221"
            ],
            [
             1,
             "#276419"
            ]
           ],
           "sequential": [
            [
             0,
             "#0d0887"
            ],
            [
             0.1111111111111111,
             "#46039f"
            ],
            [
             0.2222222222222222,
             "#7201a8"
            ],
            [
             0.3333333333333333,
             "#9c179e"
            ],
            [
             0.4444444444444444,
             "#bd3786"
            ],
            [
             0.5555555555555556,
             "#d8576b"
            ],
            [
             0.6666666666666666,
             "#ed7953"
            ],
            [
             0.7777777777777778,
             "#fb9f3a"
            ],
            [
             0.8888888888888888,
             "#fdca26"
            ],
            [
             1,
             "#f0f921"
            ]
           ],
           "sequentialminus": [
            [
             0,
             "#0d0887"
            ],
            [
             0.1111111111111111,
             "#46039f"
            ],
            [
             0.2222222222222222,
             "#7201a8"
            ],
            [
             0.3333333333333333,
             "#9c179e"
            ],
            [
             0.4444444444444444,
             "#bd3786"
            ],
            [
             0.5555555555555556,
             "#d8576b"
            ],
            [
             0.6666666666666666,
             "#ed7953"
            ],
            [
             0.7777777777777778,
             "#fb9f3a"
            ],
            [
             0.8888888888888888,
             "#fdca26"
            ],
            [
             1,
             "#f0f921"
            ]
           ]
          },
          "colorway": [
           "#636efa",
           "#EF553B",
           "#00cc96",
           "#ab63fa",
           "#FFA15A",
           "#19d3f3",
           "#FF6692",
           "#B6E880",
           "#FF97FF",
           "#FECB52"
          ],
          "font": {
           "color": "#2a3f5f"
          },
          "geo": {
           "bgcolor": "white",
           "lakecolor": "white",
           "landcolor": "#E5ECF6",
           "showlakes": true,
           "showland": true,
           "subunitcolor": "white"
          },
          "hoverlabel": {
           "align": "left"
          },
          "hovermode": "closest",
          "mapbox": {
           "style": "light"
          },
          "paper_bgcolor": "white",
          "plot_bgcolor": "#E5ECF6",
          "polar": {
           "angularaxis": {
            "gridcolor": "white",
            "linecolor": "white",
            "ticks": ""
           },
           "bgcolor": "#E5ECF6",
           "radialaxis": {
            "gridcolor": "white",
            "linecolor": "white",
            "ticks": ""
           }
          },
          "scene": {
           "xaxis": {
            "backgroundcolor": "#E5ECF6",
            "gridcolor": "white",
            "gridwidth": 2,
            "linecolor": "white",
            "showbackground": true,
            "ticks": "",
            "zerolinecolor": "white"
           },
           "yaxis": {
            "backgroundcolor": "#E5ECF6",
            "gridcolor": "white",
            "gridwidth": 2,
            "linecolor": "white",
            "showbackground": true,
            "ticks": "",
            "zerolinecolor": "white"
           },
           "zaxis": {
            "backgroundcolor": "#E5ECF6",
            "gridcolor": "white",
            "gridwidth": 2,
            "linecolor": "white",
            "showbackground": true,
            "ticks": "",
            "zerolinecolor": "white"
           }
          },
          "shapedefaults": {
           "line": {
            "color": "#2a3f5f"
           }
          },
          "ternary": {
           "aaxis": {
            "gridcolor": "white",
            "linecolor": "white",
            "ticks": ""
           },
           "baxis": {
            "gridcolor": "white",
            "linecolor": "white",
            "ticks": ""
           },
           "bgcolor": "#E5ECF6",
           "caxis": {
            "gridcolor": "white",
            "linecolor": "white",
            "ticks": ""
           }
          },
          "title": {
           "x": 0.05
          },
          "xaxis": {
           "automargin": true,
           "gridcolor": "white",
           "linecolor": "white",
           "ticks": "",
           "title": {
            "standoff": 15
           },
           "zerolinecolor": "white",
           "zerolinewidth": 2
          },
          "yaxis": {
           "automargin": true,
           "gridcolor": "white",
           "linecolor": "white",
           "ticks": "",
           "title": {
            "standoff": 15
           },
           "zerolinecolor": "white",
           "zerolinewidth": 2
          }
         }
        },
        "xaxis": {
         "anchor": "y",
         "domain": [
          0,
          1
         ],
         "title": {
          "text": "Total income for the utility"
         }
        },
        "yaxis": {
         "anchor": "x",
         "domain": [
          0,
          1
         ],
         "title": {
          "text": "Economic real rate of return: water supply"
         }
        }
       }
      }
     },
     "metadata": {},
     "output_type": "display_data"
    }
   ],
   "source": [
    "# Define x and y variables for the scatter plot\n",
    "# Please refer to finance['Indicator Name'].unique() to see the available options\n",
    "x = 'Total income for the utility'\n",
    "y = 'Economic real rate of return: water supply'\n",
    "filters = [x,y]\n",
    "\n",
    "# Filter the dataframe\n",
    "filtered = finance[finance['Indicator Name'].isin(filters)]\n",
    "filtered = filtered.filter(items=['Area','Utility','Indicator Name','2023-2024']).reset_index(drop=True)\n",
    "filtered = filtered.pivot_table(index=['Area','Utility'], columns='Indicator Name', values='2023-2024').reset_index()\n",
    "# Remove rows with missing values in 'Area' column to ensure data have equal length\n",
    "filtered = filtered.dropna(subset=['Area', x, y])\n",
    "\n",
    "# Produce the scatter plot\n",
    "fig = px.scatter(filtered,\n",
    "           x=x,\n",
    "           y=y,\n",
    "           color='Area',\n",
    "           hover_name='Utility')\n",
    "fig.show()"
   ]
  }
 ],
 "metadata": {
  "kernelspec": {
   "display_name": ".venv",
   "language": "python",
   "name": "python3"
  },
  "language_info": {
   "codemirror_mode": {
    "name": "ipython",
    "version": 3
   },
   "file_extension": ".py",
   "mimetype": "text/x-python",
   "name": "python",
   "nbconvert_exporter": "python",
   "pygments_lexer": "ipython3",
   "version": "3.12.2"
  }
 },
 "nbformat": 4,
 "nbformat_minor": 2
}
